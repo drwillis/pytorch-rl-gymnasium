{
 "cells": [
  {
   "cell_type": "code",
   "execution_count": 20,
   "metadata": {
    "id": "lIYdn1woOS1n"
   },
   "outputs": [],
   "source": [
    "import torch\n",
    "import torch.nn as nn\n",
    "import torch.optim as optim\n",
    "import torch.nn.functional as F\n",
    "import torch.distributions as distributions\n",
    "\n",
    "import collections\n",
    "import random\n",
    "import matplotlib.pyplot as plt\n",
    "import numpy as np\n",
    "import gymnasium as gym\n",
    "import tqdm"
   ]
  },
  {
   "cell_type": "code",
   "execution_count": 21,
   "metadata": {
    "id": "hx00pAvWSmCj"
   },
   "outputs": [],
   "source": [
    "train_env = gym.make('CartPole-v1')\n",
    "test_env = gym.make('CartPole-v1')"
   ]
  },
  {
   "cell_type": "code",
   "execution_count": 22,
   "metadata": {
    "id": "nn6fQ-tsSngq"
   },
   "outputs": [],
   "source": [
    "# SEED = 333\n",
    "\n",
    "# train_env.seed(SEED);\n",
    "# test_env.seed(SEED+1);\n",
    "# np.random.seed(SEED);\n",
    "# random.seed(SEED)\n",
    "# torch.manual_seed(SEED);"
   ]
  },
  {
   "cell_type": "code",
   "execution_count": 23,
   "metadata": {
    "id": "ZTV80tcyStiW"
   },
   "outputs": [],
   "source": [
    "class MLP(nn.Module):\n",
    "    def __init__(self, input_dim, hidden_dim, output_dim):\n",
    "        super().__init__()\n",
    "\n",
    "        self.fc_1 = nn.Linear(input_dim, hidden_dim)\n",
    "        self.fc_2 = nn.Linear(hidden_dim, output_dim)\n",
    "\n",
    "    def forward(self, x):\n",
    "        x = self.fc_1(x)\n",
    "        x = F.relu(x)\n",
    "        x = self.fc_2(x)\n",
    "        return x"
   ]
  },
  {
   "cell_type": "code",
   "execution_count": 24,
   "metadata": {
    "id": "cnv3x6jMSv_l"
   },
   "outputs": [],
   "source": [
    "input_dim = train_env.observation_space.shape[0]\n",
    "hidden_dim = 32\n",
    "output_dim = train_env.action_space.n"
   ]
  },
  {
   "cell_type": "code",
   "execution_count": 25,
   "metadata": {
    "id": "VXer9D_tSxjm"
   },
   "outputs": [],
   "source": [
    "def init_weights(m):\n",
    "    if type(m) == nn.Linear:\n",
    "        torch.nn.init.kaiming_normal_(m.weight)\n",
    "        m.bias.data.fill_(0)"
   ]
  },
  {
   "cell_type": "code",
   "execution_count": 35,
   "metadata": {
    "id": "sMjkAQpYS0kt"
   },
   "outputs": [],
   "source": [
    "def train(env, policy, optimizer, discount_factor, epsilon, device):\n",
    "    policy.train()\n",
    "    \n",
    "    episode_reward = 0.0\n",
    "    done = False\n",
    "\n",
    "    # --- Handle both Gym and Gymnasium reset APIs ---\n",
    "    reset_output = env.reset()\n",
    "    if isinstance(reset_output, tuple):\n",
    "        state, _ = reset_output  # Gymnasium returns (obs, info)\n",
    "    else:\n",
    "        state = reset_output     # Old Gym returns obs only\n",
    "\n",
    "    # --- Ensure proper tensor shape ---\n",
    "    state = torch.as_tensor(state, dtype=torch.float32, device=device).unsqueeze(0)\n",
    "\n",
    "    while not done:\n",
    "        # --- Epsilon-greedy action selection ---\n",
    "        if np.random.rand() < epsilon:\n",
    "            action = env.action_space.sample()\n",
    "        else:\n",
    "            with torch.no_grad():\n",
    "                q_pred = policy(state)\n",
    "                action = torch.argmax(q_pred, dim=1).item()\n",
    "\n",
    "        # --- Take step in environment ---\n",
    "        step_output = env.step(action)\n",
    "        if len(step_output) == 5:\n",
    "            next_state, reward, terminated, truncated, _ = step_output\n",
    "            done = terminated or truncated\n",
    "        else:\n",
    "            next_state, reward, done, _ = step_output\n",
    "\n",
    "        next_state = torch.as_tensor(next_state, dtype=torch.float32, device=device).unsqueeze(0)\n",
    "\n",
    "        # --- Update policy ---\n",
    "        loss = update_policy(policy, state, action, reward, next_state, discount_factor, optimizer)\n",
    "\n",
    "        # --- Transition ---\n",
    "        state = next_state\n",
    "        episode_reward += reward\n",
    "\n",
    "    return loss, episode_reward, epsilon"
   ]
  },
  {
   "cell_type": "code",
   "execution_count": 36,
   "metadata": {
    "id": "ErfMZiVeS4W9"
   },
   "outputs": [],
   "source": [
    "def update_policy(policy, state, action, reward, next_state, discount_factor, optimizer):\n",
    "    \n",
    "    q_preds = policy(state)\n",
    "\n",
    "    q_vals = q_preds[:, action]\n",
    "\n",
    "    with torch.no_grad():\n",
    "        q_next_preds = policy(next_state)\n",
    "        q_next_vals = q_next_preds.max(1).values\n",
    "        targets = reward + q_next_vals * discount_factor\n",
    "\n",
    "    loss = F.smooth_l1_loss(targets.detach(), q_vals)\n",
    "    \n",
    "    optimizer.zero_grad()\n",
    "    \n",
    "    loss.backward()\n",
    "\n",
    "    nn.utils.clip_grad_norm_(policy.parameters(), 0.5)\n",
    "\n",
    "    optimizer.step()\n",
    "    \n",
    "    return loss.item()"
   ]
  },
  {
   "cell_type": "code",
   "execution_count": 41,
   "metadata": {
    "id": "B5g4ePt_S519"
   },
   "outputs": [],
   "source": [
    "def evaluate(env, policy, device):\n",
    "    \n",
    "    policy.eval()\n",
    "    \n",
    "    done = False\n",
    "    episode_reward = 0\n",
    "\n",
    "    state, _ = env.reset()\n",
    "\n",
    "    while not done:\n",
    "        \n",
    "        state = torch.FloatTensor(state).unsqueeze(0).to(device)\n",
    "        \n",
    "        with torch.no_grad():\n",
    "        \n",
    "            q_pred = policy(state)\n",
    "            \n",
    "            action = torch.argmax(q_pred).item()\n",
    "\n",
    "        # state, reward, done, _ = env.step(action)\n",
    "        state, reward, done, truncated, info = env.step(action)\n",
    "        \n",
    "        episode_reward += reward\n",
    "\n",
    "    return episode_reward"
   ]
  },
  {
   "cell_type": "code",
   "execution_count": 42,
   "metadata": {
    "colab": {
     "base_uri": "https://localhost:8080/",
     "height": 187
    },
    "id": "NZd-17MqS7q9",
    "outputId": "e0cbc931-dbca-4460-a329-938f98b6f406"
   },
   "outputs": [
    {
     "name": "stderr",
     "output_type": "stream",
     "text": [
      "Run: 0: 100%|█████████████████████████████████████████████████████████████████████████████████████████████████████████████████████████████████████| 500/500 [00:18<00:00, 27.39it/s]\n",
      "Run: 1: 100%|█████████████████████████████████████████████████████████████████████████████████████████████████████████████████████████████████████| 500/500 [00:07<00:00, 68.90it/s]\n",
      "Run: 2:   1%|▊                                                                                                                                      | 3/500 [00:11<32:02,  3.87s/it]\n"
     ]
    },
    {
     "ename": "KeyboardInterrupt",
     "evalue": "",
     "output_type": "error",
     "traceback": [
      "\u001b[31m---------------------------------------------------------------------------\u001b[39m",
      "\u001b[31mKeyboardInterrupt\u001b[39m                         Traceback (most recent call last)",
      "\u001b[36mCell\u001b[39m\u001b[36m \u001b[39m\u001b[32mIn[42]\u001b[39m\u001b[32m, line 28\u001b[39m\n\u001b[32m     25\u001b[39m epsilon *= epsilon_decay\n\u001b[32m     26\u001b[39m epsilon = \u001b[38;5;28mmin\u001b[39m(epsilon, end_epsilon)\n\u001b[32m---> \u001b[39m\u001b[32m28\u001b[39m test_reward = \u001b[43mevaluate\u001b[49m\u001b[43m(\u001b[49m\u001b[43mtest_env\u001b[49m\u001b[43m,\u001b[49m\u001b[43m \u001b[49m\u001b[43mpolicy\u001b[49m\u001b[43m,\u001b[49m\u001b[43m \u001b[49m\u001b[43mdevice\u001b[49m\u001b[43m)\u001b[49m\n\u001b[32m     30\u001b[39m train_rewards[run][episode] = train_reward\n\u001b[32m     31\u001b[39m test_rewards[run][episode] = test_reward\n",
      "\u001b[36mCell\u001b[39m\u001b[36m \u001b[39m\u001b[32mIn[41]\u001b[39m\u001b[32m, line 18\u001b[39m, in \u001b[36mevaluate\u001b[39m\u001b[34m(env, policy, device)\u001b[39m\n\u001b[32m     14\u001b[39m \u001b[38;5;28;01mwith\u001b[39;00m torch.no_grad():\n\u001b[32m     16\u001b[39m     q_pred = policy(state)\n\u001b[32m---> \u001b[39m\u001b[32m18\u001b[39m     action = \u001b[43mtorch\u001b[49m\u001b[43m.\u001b[49m\u001b[43margmax\u001b[49m\u001b[43m(\u001b[49m\u001b[43mq_pred\u001b[49m\u001b[43m)\u001b[49m.item()\n\u001b[32m     20\u001b[39m \u001b[38;5;66;03m# state, reward, done, _ = env.step(action)\u001b[39;00m\n\u001b[32m     21\u001b[39m state, reward, done, truncated, info = env.step(action)\n",
      "\u001b[31mKeyboardInterrupt\u001b[39m: "
     ]
    }
   ],
   "source": [
    "n_runs = 10\n",
    "n_episodes = 500\n",
    "discount_factor = 0.8\n",
    "start_epsilon = 1.0\n",
    "end_epsilon = 0.01\n",
    "epsilon_decay = 0.995\n",
    "\n",
    "train_rewards = torch.zeros(n_runs, n_episodes)\n",
    "test_rewards = torch.zeros(n_runs, n_episodes)\n",
    "device = torch.device('cpu')\n",
    "\n",
    "for run in range(n_runs):\n",
    "    \n",
    "    policy = MLP(input_dim, hidden_dim, output_dim)\n",
    "    policy = policy.to(device)\n",
    "    policy.apply(init_weights)\n",
    "    epsilon = start_epsilon\n",
    "\n",
    "    optimizer = optim.RMSprop(policy.parameters(), lr=1e-6)\n",
    "\n",
    "    for episode in tqdm.tqdm(range(n_episodes), desc=f'Run: {run}'):\n",
    "\n",
    "        loss, train_reward, epsilon = train(train_env, policy, optimizer, discount_factor, epsilon, device)\n",
    "\n",
    "        epsilon *= epsilon_decay\n",
    "        epsilon = min(epsilon, end_epsilon)\n",
    "\n",
    "        test_reward = evaluate(test_env, policy, device)\n",
    "        \n",
    "        train_rewards[run][episode] = train_reward\n",
    "        test_rewards[run][episode] = test_reward"
   ]
  },
  {
   "cell_type": "code",
   "execution_count": null,
   "metadata": {
    "colab": {
     "base_uri": "https://localhost:8080/",
     "height": 395
    },
    "id": "bs_5dX7Umroe",
    "outputId": "157f91d7-2e05-403d-d7d2-cf0c81f37463"
   },
   "outputs": [],
   "source": [
    "idxs = range(n_episodes)\n",
    "fig, ax = plt.subplots(n_runs, figsize=(10,6))\n",
    "for i, _ax in enumerate(ax):\n",
    "    _ax.plot(idxs, train_rewards[i], c='red')\n",
    "    _ax.plot(idxs, test_rewards[i], c='blue')\n",
    "    _ax.set_ylim(0, 550)\n",
    "    _ax.set_ylabel('Rewards');\n",
    "    if i == n_runs - 1:\n",
    "        _ax.set_xlabel('Episodes')"
   ]
  },
  {
   "cell_type": "code",
   "execution_count": null,
   "metadata": {
    "colab": {
     "base_uri": "https://localhost:8080/",
     "height": 395
    },
    "id": "qXkZeSFb7J3H",
    "outputId": "7b356999-3a59-4e8d-ec9e-afcd44fb0c5e"
   },
   "outputs": [],
   "source": [
    "idxs = range(n_episodes)\n",
    "fig, ax = plt.subplots(n_runs, figsize=(10,6))\n",
    "for i, _ax in enumerate(ax):\n",
    "    _ax.plot(idxs, test_rewards[i])\n",
    "    _ax.set_ylim(0, 550)\n",
    "    _ax.set_ylabel('Rewards');\n",
    "    if i == n_runs - 1:\n",
    "        _ax.set_xlabel('Episodes')"
   ]
  },
  {
   "cell_type": "code",
   "execution_count": null,
   "metadata": {
    "colab": {
     "base_uri": "https://localhost:8080/",
     "height": 395
    },
    "id": "DnchJGhSARgk",
    "outputId": "aa4613b9-f24f-47e2-bc2b-3d2477df83c0"
   },
   "outputs": [],
   "source": [
    "idxs = range(n_episodes)\n",
    "fig, ax = plt.subplots(n_runs, figsize=(10,6))\n",
    "for i, _ax in enumerate(ax):\n",
    "    _ax.plot(idxs, train_rewards[i])\n",
    "    _ax.set_ylim(0, 550)\n",
    "    _ax.set_ylabel('Rewards');\n",
    "    if i == n_runs - 1:\n",
    "        _ax.set_xlabel('Episodes')"
   ]
  },
  {
   "cell_type": "code",
   "execution_count": null,
   "metadata": {
    "colab": {
     "base_uri": "https://localhost:8080/",
     "height": 388
    },
    "id": "t7c2a_gbS9G9",
    "outputId": "42306b6e-3aca-428a-c920-df94912a2c1a"
   },
   "outputs": [],
   "source": [
    "idxs = range(n_episodes)\n",
    "fig, ax = plt.subplots(1, figsize=(10,6))\n",
    "ax.plot(idxs, test_rewards.mean(0))\n",
    "ax.set_ylim(0, 550)\n",
    "ax.fill_between(idxs, test_rewards.min(0).values, test_rewards.max(0).values, alpha=0.1)\n",
    "ax.set_xlabel('Episodes')\n",
    "ax.set_ylabel('Rewards');"
   ]
  },
  {
   "cell_type": "code",
   "execution_count": null,
   "metadata": {
    "colab": {
     "base_uri": "https://localhost:8080/",
     "height": 388
    },
    "id": "TjEY79yp0FRe",
    "outputId": "9d8ac3c4-306f-4b0a-dd94-e7dbe345d4a6"
   },
   "outputs": [],
   "source": [
    "idxs = range(n_episodes)\n",
    "fig, ax = plt.subplots(1, figsize=(10,6))\n",
    "ax.plot(idxs, train_rewards.mean(0))\n",
    "ax.set_ylim(0, 550)\n",
    "ax.fill_between(idxs, train_rewards.min(0).values, train_rewards.max(0).values, alpha=0.1)\n",
    "ax.set_xlabel('Episodes')\n",
    "ax.set_ylabel('Rewards');"
   ]
  },
  {
   "cell_type": "code",
   "execution_count": null,
   "metadata": {
    "colab": {
     "base_uri": "https://localhost:8080/",
     "height": 299
    },
    "id": "CPg9yMnZbM_0",
    "outputId": "66f9ce5f-2851-40f4-c4f7-efa7d17f42f9"
   },
   "outputs": [],
   "source": [
    "n = 500\n",
    "start_x = 1.0\n",
    "decay = 0.995\n",
    "print(decay)\n",
    "min_x = 0.01\n",
    "x = start_x\n",
    "ys = []\n",
    "for i in range(n):\n",
    "    x *= decay\n",
    "    x = max(x, min_x)\n",
    "    ys.append(x)\n",
    "plt.plot(ys)\n",
    "plt.ylim(0,1.1)"
   ]
  },
  {
   "cell_type": "code",
   "execution_count": null,
   "metadata": {
    "colab": {
     "base_uri": "https://localhost:8080/",
     "height": 34
    },
    "id": "98Bv5zOvbama",
    "outputId": "e7e6928c-5cf7-4593-fc93-eede51e2be80"
   },
   "outputs": [],
   "source": [
    "np.e"
   ]
  },
  {
   "cell_type": "code",
   "execution_count": null,
   "metadata": {
    "id": "2drfVoi8esdj"
   },
   "outputs": [],
   "source": [
    "q = collections.deque(maxlen=5)"
   ]
  },
  {
   "cell_type": "code",
   "execution_count": null,
   "metadata": {
    "colab": {
     "base_uri": "https://localhost:8080/",
     "height": 34
    },
    "id": "cl_Fh8bMogmc",
    "outputId": "c0855412-f454-4647-ec82-0e817b31a45e"
   },
   "outputs": [],
   "source": [
    "q"
   ]
  },
  {
   "cell_type": "code",
   "execution_count": null,
   "metadata": {
    "colab": {
     "base_uri": "https://localhost:8080/",
     "height": 34
    },
    "id": "A-hkKJqeohUy",
    "outputId": "ff1cc485-d6b5-4aee-f5e5-3fead7a56a6d"
   },
   "outputs": [],
   "source": [
    "len(q)"
   ]
  },
  {
   "cell_type": "code",
   "execution_count": null,
   "metadata": {
    "id": "16Ybdf8FoiJ6"
   },
   "outputs": [],
   "source": [
    "q.append(1)"
   ]
  },
  {
   "cell_type": "code",
   "execution_count": null,
   "metadata": {
    "colab": {
     "base_uri": "https://localhost:8080/",
     "height": 34
    },
    "id": "58pd5t-Zoj-L",
    "outputId": "66f23cda-b3f9-4694-d6d5-18cb3c90c707"
   },
   "outputs": [],
   "source": [
    "20_000/500"
   ]
  },
  {
   "cell_type": "code",
   "execution_count": null,
   "metadata": {
    "colab": {
     "base_uri": "https://localhost:8080/",
     "height": 34
    },
    "id": "VwY2-Y58okfS",
    "outputId": "c3b11cb9-216d-4b75-f5b2-eefd2a42d07e"
   },
   "outputs": [],
   "source": [
    "q.maxlen"
   ]
  },
  {
   "cell_type": "code",
   "execution_count": null,
   "metadata": {
    "id": "XaXD3QHFo65F"
   },
   "outputs": [],
   "source": [
    "q.append(1)\n",
    "q.append(1)\n",
    "q.append(1)\n",
    "q.append(1)"
   ]
  },
  {
   "cell_type": "code",
   "execution_count": null,
   "metadata": {
    "colab": {
     "base_uri": "https://localhost:8080/",
     "height": 34
    },
    "id": "SD8IXBiSpLAn",
    "outputId": "76b8e15f-287b-4ce8-9f0a-128751d4065c"
   },
   "outputs": [],
   "source": [
    "len(q)"
   ]
  },
  {
   "cell_type": "code",
   "execution_count": null,
   "metadata": {
    "id": "A0Wm1X93pLfg"
   },
   "outputs": [],
   "source": [
    "q.append(1)\n",
    "q.append(1)\n",
    "q.append(1)\n",
    "q.append(1)"
   ]
  },
  {
   "cell_type": "code",
   "execution_count": null,
   "metadata": {
    "colab": {
     "base_uri": "https://localhost:8080/",
     "height": 34
    },
    "id": "DkmBpSRGpNXC",
    "outputId": "ce294061-3f40-4a95-c8e9-bdd06c95e70f"
   },
   "outputs": [],
   "source": [
    "q"
   ]
  },
  {
   "cell_type": "code",
   "execution_count": null,
   "metadata": {
    "colab": {
     "base_uri": "https://localhost:8080/",
     "height": 34
    },
    "id": "xCWW_3_GpNz5",
    "outputId": "bc74ce8a-1c01-49f4-fa88-68c57fffcc57"
   },
   "outputs": [],
   "source": [
    "len(q)"
   ]
  },
  {
   "cell_type": "code",
   "execution_count": null,
   "metadata": {
    "id": "r6-QMrKNpOSI"
   },
   "outputs": [],
   "source": []
  }
 ],
 "metadata": {
  "colab": {
   "name": "scratchpad.ipynb",
   "provenance": []
  },
  "kernelspec": {
   "display_name": "Python 3 (ipykernel)",
   "language": "python",
   "name": "python3"
  },
  "language_info": {
   "codemirror_mode": {
    "name": "ipython",
    "version": 3
   },
   "file_extension": ".py",
   "mimetype": "text/x-python",
   "name": "python",
   "nbconvert_exporter": "python",
   "pygments_lexer": "ipython3",
   "version": "3.12.3"
  }
 },
 "nbformat": 4,
 "nbformat_minor": 4
}
