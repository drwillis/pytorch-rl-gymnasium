{
 "cells": [
  {
   "cell_type": "code",
   "execution_count": 1,
   "metadata": {
    "id": "lIYdn1woOS1n"
   },
   "outputs": [],
   "source": [
    "import torch\n",
    "import torch.nn as nn\n",
    "import torch.optim as optim\n",
    "import torch.nn.functional as F\n",
    "import torch.distributions as distributions\n",
    "\n",
    "import matplotlib.pyplot as plt\n",
    "import numpy as np\n",
    "import gymnasium\n",
    "import tqdm"
   ]
  },
  {
   "cell_type": "code",
   "execution_count": 2,
   "metadata": {
    "id": "D1kir0PxunA7"
   },
   "outputs": [],
   "source": [
    "train_env = gymnasium.make('CartPole-v1')\n",
    "test_env = gymnasium.make('CartPole-v1')"
   ]
  },
  {
   "cell_type": "code",
   "execution_count": 3,
   "metadata": {
    "id": "Bh6ySKtk4giJ"
   },
   "outputs": [],
   "source": [
    "# SEED = 1234\n",
    "\n",
    "# train_env.seed(SEED);\n",
    "# test_env.seed(SEED+1);\n",
    "# np.random.seed(SEED);\n",
    "# torch.manual_seed(SEED);"
   ]
  },
  {
   "cell_type": "code",
   "execution_count": 4,
   "metadata": {
    "id": "hOxENZewvGhX"
   },
   "outputs": [],
   "source": [
    "class MLP(nn.Module):\n",
    "    def __init__(self, input_dim, hidden_dim, output_dim):\n",
    "        super().__init__()\n",
    "\n",
    "        self.fc_1 = nn.Linear(input_dim, hidden_dim)\n",
    "        self.fc_2 = nn.Linear(hidden_dim, output_dim)\n",
    "\n",
    "    def forward(self, x):\n",
    "        x = self.fc_1(x)\n",
    "        x = F.relu(x)\n",
    "        x = self.fc_2(x)\n",
    "        return x"
   ]
  },
  {
   "cell_type": "code",
   "execution_count": 5,
   "metadata": {
    "id": "C42N0qKUxo0d"
   },
   "outputs": [],
   "source": [
    "input_dim = train_env.observation_space.shape[0]\n",
    "hidden_dim = 32\n",
    "output_dim = train_env.action_space.n"
   ]
  },
  {
   "cell_type": "code",
   "execution_count": 6,
   "metadata": {
    "id": "DMalrE2I0iNn"
   },
   "outputs": [],
   "source": [
    "def init_weights(m):\n",
    "    if type(m) == nn.Linear:\n",
    "        torch.nn.init.kaiming_normal_(m.weight)\n",
    "        m.bias.data.fill_(0)"
   ]
  },
  {
   "cell_type": "code",
   "execution_count": 7,
   "metadata": {
    "id": "jmDLrSWK_7Ec"
   },
   "outputs": [],
   "source": [
    "device = torch.device('cuda')"
   ]
  },
  {
   "cell_type": "code",
   "execution_count": 8,
   "metadata": {
    "id": "NHAb-opgA7b8"
   },
   "outputs": [],
   "source": [
    "def train(env, policy, optimizer, discount_factor, device):\n",
    "    \n",
    "    policy.train()\n",
    "    \n",
    "    log_prob_actions = []\n",
    "    rewards = []\n",
    "    done = False\n",
    "    episode_reward = 0\n",
    "\n",
    "    state = env.reset()[0]\n",
    "\n",
    "    while not done:\n",
    "\n",
    "        state = torch.FloatTensor(state).unsqueeze(0).to(device)\n",
    "\n",
    "        action_pred = policy(state)\n",
    "        \n",
    "        action_prob = F.softmax(action_pred, dim = -1)\n",
    "                \n",
    "        dist = distributions.Categorical(action_prob)\n",
    "\n",
    "        action = dist.sample()\n",
    "\n",
    "        log_prob_action = dist.log_prob(action)\n",
    "        \n",
    "        state, reward, done, _, _ = env.step(action.item())\n",
    "\n",
    "        log_prob_actions.append(log_prob_action)\n",
    "        rewards.append(reward)\n",
    "\n",
    "        episode_reward += reward\n",
    "\n",
    "    log_prob_actions = torch.cat(log_prob_actions)\n",
    "        \n",
    "    returns = calculate_returns(rewards, discount_factor, device)\n",
    "\n",
    "    loss = update_policy(returns, log_prob_actions, optimizer)\n",
    "\n",
    "    return loss, episode_reward"
   ]
  },
  {
   "cell_type": "code",
   "execution_count": 9,
   "metadata": {
    "id": "uhnGQt3FA-0P"
   },
   "outputs": [],
   "source": [
    "def calculate_returns(rewards, discount_factor, device, normalize = True):\n",
    "    \n",
    "    returns = []\n",
    "    R = 0\n",
    "    \n",
    "    for r in reversed(rewards):\n",
    "        R = r + R * discount_factor\n",
    "        returns.insert(0, R)\n",
    "        \n",
    "    returns = torch.tensor(returns).to(device)\n",
    "    \n",
    "    if normalize:\n",
    "        returns = (returns - returns.mean()) / returns.std()\n",
    "        \n",
    "    return returns"
   ]
  },
  {
   "cell_type": "code",
   "execution_count": 10,
   "metadata": {
    "id": "MxefSt0hCaRM"
   },
   "outputs": [],
   "source": [
    "def update_policy(returns, log_prob_actions, optimizer):\n",
    "    \n",
    "    returns = returns.detach()\n",
    "    \n",
    "    loss = -(returns * log_prob_actions).sum()\n",
    "    \n",
    "    optimizer.zero_grad()\n",
    "    \n",
    "    loss.backward()\n",
    "    \n",
    "    optimizer.step()\n",
    "    \n",
    "    return loss.item()"
   ]
  },
  {
   "cell_type": "code",
   "execution_count": 11,
   "metadata": {
    "id": "dHbV1Ec_CdxK"
   },
   "outputs": [],
   "source": [
    "def evaluate(env, policy, device):\n",
    "    \n",
    "    policy.eval()\n",
    "    \n",
    "    done = False\n",
    "    episode_reward = 0\n",
    "\n",
    "    state = env.reset()[0]\n",
    "\n",
    "    while not done:\n",
    "        \n",
    "        state = torch.FloatTensor(state).unsqueeze(0).to(device)\n",
    "        \n",
    "        with torch.no_grad():\n",
    "        \n",
    "            action_pred = policy(state)\n",
    "            \n",
    "            action_prob = F.softmax(action_pred, dim = -1)\n",
    "                            \n",
    "        action = torch.argmax(action_prob, dim = -1)\n",
    "\n",
    "        state, reward, done, _, _ = env.step(action.item())\n",
    "\n",
    "        episode_reward += reward\n",
    "        \n",
    "    return episode_reward"
   ]
  },
  {
   "cell_type": "code",
   "execution_count": 14,
   "metadata": {
    "colab": {
     "base_uri": "https://localhost:8080/",
     "height": 104
    },
    "id": "-rdcX8lLDAER",
    "outputId": "9a1b3d6d-5d1b-459c-d4f0-32f7c090b15f"
   },
   "outputs": [
    {
     "name": "stderr",
     "output_type": "stream",
     "text": [
      "Run: 0: 100%|███████████████████████████████████████████████████████████████████████████████████████████████████████████████████████████████████████| 25/25 [00:00<00:00, 27.99it/s]\n",
      "Run: 1: 100%|███████████████████████████████████████████████████████████████████████████████████████████████████████████████████████████████████████| 25/25 [00:01<00:00, 17.43it/s]\n",
      "Run: 2: 100%|███████████████████████████████████████████████████████████████████████████████████████████████████████████████████████████████████████| 25/25 [00:00<00:00, 55.86it/s]\n",
      "Run: 3: 100%|███████████████████████████████████████████████████████████████████████████████████████████████████████████████████████████████████████| 25/25 [00:00<00:00, 28.89it/s]\n",
      "Run: 4: 100%|███████████████████████████████████████████████████████████████████████████████████████████████████████████████████████████████████████| 25/25 [00:00<00:00, 50.40it/s]\n",
      "Run: 5: 100%|███████████████████████████████████████████████████████████████████████████████████████████████████████████████████████████████████████| 25/25 [00:00<00:00, 67.61it/s]\n",
      "Run: 6: 100%|███████████████████████████████████████████████████████████████████████████████████████████████████████████████████████████████████████| 25/25 [00:00<00:00, 27.77it/s]\n",
      "Run: 7: 100%|███████████████████████████████████████████████████████████████████████████████████████████████████████████████████████████████████████| 25/25 [00:00<00:00, 76.17it/s]\n",
      "Run: 8: 100%|███████████████████████████████████████████████████████████████████████████████████████████████████████████████████████████████████████| 25/25 [00:00<00:00, 31.87it/s]\n",
      "Run: 9: 100%|███████████████████████████████████████████████████████████████████████████████████████████████████████████████████████████████████████| 25/25 [00:00<00:00, 25.77it/s]\n"
     ]
    }
   ],
   "source": [
    "n_runs = 10\n",
    "max_episodes = 25\n",
    "discount_factor = 0.99\n",
    "\n",
    "train_rewards = torch.zeros(n_runs, max_episodes)\n",
    "test_rewards = torch.zeros(n_runs, max_episodes)\n",
    "device = torch.device('cpu')\n",
    "\n",
    "for run in range(n_runs):\n",
    "    \n",
    "    policy = MLP(input_dim, hidden_dim, output_dim)\n",
    "    policy = policy.to(device)\n",
    "    policy.apply(init_weights)\n",
    "    optimizer = optim.Adam(policy.parameters(), lr=1e-2)\n",
    "    \n",
    "    for episode in tqdm.tqdm(range(max_episodes), desc=f'Run: {run}'):\n",
    "        \n",
    "        loss, train_reward = train(train_env, policy, optimizer, discount_factor, device)\n",
    "        \n",
    "        test_reward = evaluate(test_env, policy, device)\n",
    "        \n",
    "        train_rewards[run][episode] = train_reward\n",
    "        test_rewards[run][episode] = test_reward"
   ]
  },
  {
   "cell_type": "code",
   "execution_count": 13,
   "metadata": {
    "colab": {
     "base_uri": "https://localhost:8080/",
     "height": 388
    },
    "id": "jhRxmYL1FLhz",
    "outputId": "3cca8b11-d442-486b-9c34-5a75e6a0f93f"
   },
   "outputs": [
    {
     "data": {
      "image/png": "[encoded data removed]",
      "text/plain": [
       "<Figure size 1000x600 with 1 Axes>"
      ]
     },
     "metadata": {},
     "output_type": "display_data"
    }
   ],
   "source": [
    "idxs = range(max_episodes)\n",
    "fig, ax = plt.subplots(1, figsize=(10,6))\n",
    "ax.plot(idxs, test_rewards.mean(0))\n",
    "ax.fill_between(idxs, test_rewards.min(0).values, test_rewards.max(0).values, alpha=0.1)\n",
    "ax.set_xlabel('Steps')\n",
    "ax.set_ylabel('Rewards');"
   ]
  },
  {
   "cell_type": "markdown",
   "metadata": {
    "id": "TgQoXeO1itDY"
   },
   "source": []
  }
 ],
 "metadata": {
  "accelerator": "GPU",
  "colab": {
   "machine_shape": "hm",
   "name": "1_policy_gradient.ipynb",
   "provenance": []
  },
  "kernelspec": {
   "display_name": "Python 3 (ipykernel)",
   "language": "python",
   "name": "python3"
  },
  "language_info": {
   "codemirror_mode": {
    "name": "ipython",
    "version": 3
   },
   "file_extension": ".py",
   "mimetype": "text/x-python",
   "name": "python",
   "nbconvert_exporter": "python",
   "pygments_lexer": "ipython3",
   "version": "3.12.3"
  }
 },
 "nbformat": 4,
 "nbformat_minor": 4
}
