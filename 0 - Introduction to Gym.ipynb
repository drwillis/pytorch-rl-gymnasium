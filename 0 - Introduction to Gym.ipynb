{
 "cells": [
  {
   "cell_type": "markdown",
   "metadata": {},
   "source": [
    "## introduction"
   ]
  },
  {
   "cell_type": "code",
   "execution_count": 1,
   "metadata": {},
   "outputs": [
    {
     "name": "stdout",
     "output_type": "stream",
     "text": [
      "1.2.1\n"
     ]
    }
   ],
   "source": [
    "%matplotlib inline\n",
    "\n",
    "import matplotlib.pyplot as plt\n",
    "import numpy as np\n",
    "import ale_py\n",
    "import gymnasium\n",
    "\n",
    "print(gymnasium.__version__)"
   ]
  },
  {
   "cell_type": "markdown",
   "metadata": {},
   "source": [
    "https://gym.openai.com/envs/"
   ]
  },
  {
   "cell_type": "code",
   "execution_count": 2,
   "metadata": {},
   "outputs": [
    {
     "name": "stdout",
     "output_type": "stream",
     "text": [
      "CartPole-v0\n",
      "CartPole-v1\n",
      "MountainCar-v0\n",
      "MountainCarContinuous-v0\n",
      "Pendulum-v1\n",
      "Acrobot-v1\n",
      "phys2d/CartPole-v0\n",
      "phys2d/CartPole-v1\n",
      "phys2d/Pendulum-v0\n",
      "LunarLander-v3\n",
      "LunarLanderContinuous-v3\n",
      "BipedalWalker-v3\n",
      "BipedalWalkerHardcore-v3\n",
      "CarRacing-v3\n",
      "Blackjack-v1\n",
      "FrozenLake-v1\n",
      "FrozenLake8x8-v1\n",
      "CliffWalking-v1\n",
      "CliffWalkingSlippery-v1\n",
      "Taxi-v3\n",
      "tabular/Blackjack-v0\n",
      "tabular/CliffWalking-v0\n",
      "Reacher-v2\n",
      "Reacher-v4\n",
      "Reacher-v5\n",
      "Pusher-v2\n",
      "Pusher-v4\n",
      "Pusher-v5\n",
      "InvertedPendulum-v2\n",
      "InvertedPendulum-v4\n",
      "InvertedPendulum-v5\n",
      "InvertedDoublePendulum-v2\n",
      "InvertedDoublePendulum-v4\n",
      "InvertedDoublePendulum-v5\n",
      "HalfCheetah-v2\n",
      "HalfCheetah-v3\n",
      "HalfCheetah-v4\n",
      "HalfCheetah-v5\n",
      "Hopper-v2\n",
      "Hopper-v3\n",
      "Hopper-v4\n",
      "Hopper-v5\n",
      "Swimmer-v2\n",
      "Swimmer-v3\n",
      "Swimmer-v4\n",
      "Swimmer-v5\n",
      "Walker2d-v2\n",
      "Walker2d-v3\n",
      "Walker2d-v4\n",
      "Walker2d-v5\n",
      "Ant-v2\n",
      "Ant-v3\n",
      "Ant-v4\n",
      "Ant-v5\n",
      "Humanoid-v2\n",
      "Humanoid-v3\n",
      "Humanoid-v4\n",
      "Humanoid-v5\n",
      "HumanoidStandup-v2\n",
      "HumanoidStandup-v4\n",
      "HumanoidStandup-v5\n",
      "GymV21Environment-v0\n",
      "GymV26Environment-v0\n",
      "Adventure-v0\n",
      "Adventure-v4\n",
      "AdventureNoFrameskip-v0\n",
      "AdventureNoFrameskip-v4\n",
      "AirRaid-v0\n",
      "AirRaid-v4\n",
      "AirRaidNoFrameskip-v0\n",
      "AirRaidNoFrameskip-v4\n",
      "Alien-v0\n",
      "Alien-v4\n",
      "AlienNoFrameskip-v0\n",
      "AlienNoFrameskip-v4\n",
      "Amidar-v0\n",
      "Amidar-v4\n",
      "AmidarNoFrameskip-v0\n",
      "AmidarNoFrameskip-v4\n",
      "Assault-v0\n",
      "Assault-v4\n",
      "AssaultNoFrameskip-v0\n",
      "AssaultNoFrameskip-v4\n",
      "Asterix-v0\n",
      "Asterix-v4\n",
      "AsterixNoFrameskip-v0\n",
      "AsterixNoFrameskip-v4\n",
      "Asteroids-v0\n",
      "Asteroids-v4\n",
      "AsteroidsNoFrameskip-v0\n",
      "AsteroidsNoFrameskip-v4\n",
      "Atlantis-v0\n",
      "Atlantis-v4\n",
      "AtlantisNoFrameskip-v0\n",
      "AtlantisNoFrameskip-v4\n",
      "BankHeist-v0\n",
      "BankHeist-v4\n",
      "BankHeistNoFrameskip-v0\n",
      "BankHeistNoFrameskip-v4\n",
      "BattleZone-v0\n",
      "BattleZone-v4\n",
      "BattleZoneNoFrameskip-v0\n",
      "BattleZoneNoFrameskip-v4\n",
      "BeamRider-v0\n",
      "BeamRider-v4\n",
      "BeamRiderNoFrameskip-v0\n",
      "BeamRiderNoFrameskip-v4\n",
      "Berzerk-v0\n",
      "Berzerk-v4\n",
      "BerzerkNoFrameskip-v0\n",
      "BerzerkNoFrameskip-v4\n",
      "Bowling-v0\n",
      "Bowling-v4\n",
      "BowlingNoFrameskip-v0\n",
      "BowlingNoFrameskip-v4\n",
      "Boxing-v0\n",
      "Boxing-v4\n",
      "BoxingNoFrameskip-v0\n",
      "BoxingNoFrameskip-v4\n",
      "Breakout-v0\n",
      "Breakout-v4\n",
      "BreakoutNoFrameskip-v0\n",
      "BreakoutNoFrameskip-v4\n",
      "Carnival-v0\n",
      "Carnival-v4\n",
      "CarnivalNoFrameskip-v0\n",
      "CarnivalNoFrameskip-v4\n",
      "Centipede-v0\n",
      "Centipede-v4\n",
      "CentipedeNoFrameskip-v0\n",
      "CentipedeNoFrameskip-v4\n",
      "ChopperCommand-v0\n",
      "ChopperCommand-v4\n",
      "ChopperCommandNoFrameskip-v0\n",
      "ChopperCommandNoFrameskip-v4\n",
      "CrazyClimber-v0\n",
      "CrazyClimber-v4\n",
      "CrazyClimberNoFrameskip-v0\n",
      "CrazyClimberNoFrameskip-v4\n",
      "Defender-v0\n",
      "Defender-v4\n",
      "DefenderNoFrameskip-v0\n",
      "DefenderNoFrameskip-v4\n",
      "DemonAttack-v0\n",
      "DemonAttack-v4\n",
      "DemonAttackNoFrameskip-v0\n",
      "DemonAttackNoFrameskip-v4\n",
      "DoubleDunk-v0\n",
      "DoubleDunk-v4\n",
      "DoubleDunkNoFrameskip-v0\n",
      "DoubleDunkNoFrameskip-v4\n",
      "ElevatorAction-v0\n",
      "ElevatorAction-v4\n",
      "ElevatorActionNoFrameskip-v0\n",
      "ElevatorActionNoFrameskip-v4\n",
      "Enduro-v0\n",
      "Enduro-v4\n",
      "EnduroNoFrameskip-v0\n",
      "EnduroNoFrameskip-v4\n",
      "FishingDerby-v0\n",
      "FishingDerby-v4\n",
      "FishingDerbyNoFrameskip-v0\n",
      "FishingDerbyNoFrameskip-v4\n",
      "Freeway-v0\n",
      "Freeway-v4\n",
      "FreewayNoFrameskip-v0\n",
      "FreewayNoFrameskip-v4\n",
      "Frostbite-v0\n",
      "Frostbite-v4\n",
      "FrostbiteNoFrameskip-v0\n",
      "FrostbiteNoFrameskip-v4\n",
      "Gopher-v0\n",
      "Gopher-v4\n",
      "GopherNoFrameskip-v0\n",
      "GopherNoFrameskip-v4\n",
      "Gravitar-v0\n",
      "Gravitar-v4\n",
      "GravitarNoFrameskip-v0\n",
      "GravitarNoFrameskip-v4\n",
      "Hero-v0\n",
      "Hero-v4\n",
      "HeroNoFrameskip-v0\n",
      "HeroNoFrameskip-v4\n",
      "IceHockey-v0\n",
      "IceHockey-v4\n",
      "IceHockeyNoFrameskip-v0\n",
      "IceHockeyNoFrameskip-v4\n",
      "Jamesbond-v0\n",
      "Jamesbond-v4\n",
      "JamesbondNoFrameskip-v0\n",
      "JamesbondNoFrameskip-v4\n",
      "JourneyEscape-v0\n",
      "JourneyEscape-v4\n",
      "JourneyEscapeNoFrameskip-v0\n",
      "JourneyEscapeNoFrameskip-v4\n",
      "Kangaroo-v0\n",
      "Kangaroo-v4\n",
      "KangarooNoFrameskip-v0\n",
      "KangarooNoFrameskip-v4\n",
      "Krull-v0\n",
      "Krull-v4\n",
      "KrullNoFrameskip-v0\n",
      "KrullNoFrameskip-v4\n",
      "KungFuMaster-v0\n",
      "KungFuMaster-v4\n",
      "KungFuMasterNoFrameskip-v0\n",
      "KungFuMasterNoFrameskip-v4\n",
      "MontezumaRevenge-v0\n",
      "MontezumaRevenge-v4\n",
      "MontezumaRevengeNoFrameskip-v0\n",
      "MontezumaRevengeNoFrameskip-v4\n",
      "MsPacman-v0\n",
      "MsPacman-v4\n",
      "MsPacmanNoFrameskip-v0\n",
      "MsPacmanNoFrameskip-v4\n",
      "NameThisGame-v0\n",
      "NameThisGame-v4\n",
      "NameThisGameNoFrameskip-v0\n",
      "NameThisGameNoFrameskip-v4\n",
      "Phoenix-v0\n",
      "Phoenix-v4\n",
      "PhoenixNoFrameskip-v0\n",
      "PhoenixNoFrameskip-v4\n",
      "Pitfall-v0\n",
      "Pitfall-v4\n",
      "PitfallNoFrameskip-v0\n",
      "PitfallNoFrameskip-v4\n",
      "Pong-v0\n",
      "Pong-v4\n",
      "PongNoFrameskip-v0\n",
      "PongNoFrameskip-v4\n",
      "Pooyan-v0\n",
      "Pooyan-v4\n",
      "PooyanNoFrameskip-v0\n",
      "PooyanNoFrameskip-v4\n",
      "PrivateEye-v0\n",
      "PrivateEye-v4\n",
      "PrivateEyeNoFrameskip-v0\n",
      "PrivateEyeNoFrameskip-v4\n",
      "Qbert-v0\n",
      "Qbert-v4\n",
      "QbertNoFrameskip-v0\n",
      "QbertNoFrameskip-v4\n",
      "Riverraid-v0\n",
      "Riverraid-v4\n",
      "RiverraidNoFrameskip-v0\n",
      "RiverraidNoFrameskip-v4\n",
      "RoadRunner-v0\n",
      "RoadRunner-v4\n",
      "RoadRunnerNoFrameskip-v0\n",
      "RoadRunnerNoFrameskip-v4\n",
      "Robotank-v0\n",
      "Robotank-v4\n",
      "RobotankNoFrameskip-v0\n",
      "RobotankNoFrameskip-v4\n",
      "Seaquest-v0\n",
      "Seaquest-v4\n",
      "SeaquestNoFrameskip-v0\n",
      "SeaquestNoFrameskip-v4\n",
      "Skiing-v0\n",
      "Skiing-v4\n",
      "SkiingNoFrameskip-v0\n",
      "SkiingNoFrameskip-v4\n",
      "Solaris-v0\n",
      "Solaris-v4\n",
      "SolarisNoFrameskip-v0\n",
      "SolarisNoFrameskip-v4\n",
      "SpaceInvaders-v0\n",
      "SpaceInvaders-v4\n",
      "SpaceInvadersNoFrameskip-v0\n",
      "SpaceInvadersNoFrameskip-v4\n",
      "StarGunner-v0\n",
      "StarGunner-v4\n",
      "StarGunnerNoFrameskip-v0\n",
      "StarGunnerNoFrameskip-v4\n",
      "Tennis-v0\n",
      "Tennis-v4\n",
      "TennisNoFrameskip-v0\n",
      "TennisNoFrameskip-v4\n",
      "TimePilot-v0\n",
      "TimePilot-v4\n",
      "TimePilotNoFrameskip-v0\n",
      "TimePilotNoFrameskip-v4\n",
      "Tutankham-v0\n",
      "Tutankham-v4\n",
      "TutankhamNoFrameskip-v0\n",
      "TutankhamNoFrameskip-v4\n",
      "UpNDown-v0\n",
      "UpNDown-v4\n",
      "UpNDownNoFrameskip-v0\n",
      "UpNDownNoFrameskip-v4\n",
      "Venture-v0\n",
      "Venture-v4\n",
      "VentureNoFrameskip-v0\n",
      "VentureNoFrameskip-v4\n",
      "VideoPinball-v0\n",
      "VideoPinball-v4\n",
      "VideoPinballNoFrameskip-v0\n",
      "VideoPinballNoFrameskip-v4\n",
      "WizardOfWor-v0\n",
      "WizardOfWor-v4\n",
      "WizardOfWorNoFrameskip-v0\n",
      "WizardOfWorNoFrameskip-v4\n",
      "YarsRevenge-v0\n",
      "YarsRevenge-v4\n",
      "YarsRevengeNoFrameskip-v0\n",
      "YarsRevengeNoFrameskip-v4\n",
      "Zaxxon-v0\n",
      "Zaxxon-v4\n",
      "ZaxxonNoFrameskip-v0\n",
      "ZaxxonNoFrameskip-v4\n",
      "ALE/Adventure-v5\n",
      "ALE/AirRaid-v5\n",
      "ALE/Alien-v5\n",
      "ALE/Amidar-v5\n",
      "ALE/Assault-v5\n",
      "ALE/Asterix-v5\n",
      "ALE/Asteroids-v5\n",
      "ALE/Atlantis2-v5\n",
      "ALE/Atlantis-v5\n",
      "ALE/Backgammon-v5\n",
      "ALE/BankHeist-v5\n",
      "ALE/BasicMath-v5\n",
      "ALE/BattleZone-v5\n",
      "ALE/BeamRider-v5\n",
      "ALE/Berzerk-v5\n",
      "ALE/Blackjack-v5\n",
      "ALE/Bowling-v5\n",
      "ALE/Boxing-v5\n",
      "ALE/Breakout-v5\n",
      "ALE/Carnival-v5\n",
      "ALE/Casino-v5\n",
      "ALE/Centipede-v5\n",
      "ALE/ChopperCommand-v5\n",
      "ALE/CrazyClimber-v5\n",
      "ALE/Crossbow-v5\n",
      "ALE/Darkchambers-v5\n",
      "ALE/Defender-v5\n",
      "ALE/DemonAttack-v5\n",
      "ALE/DonkeyKong-v5\n",
      "ALE/DoubleDunk-v5\n",
      "ALE/Earthworld-v5\n",
      "ALE/ElevatorAction-v5\n",
      "ALE/Enduro-v5\n",
      "ALE/Entombed-v5\n",
      "ALE/Et-v5\n",
      "ALE/FishingDerby-v5\n",
      "ALE/FlagCapture-v5\n",
      "ALE/Freeway-v5\n",
      "ALE/Frogger-v5\n",
      "ALE/Frostbite-v5\n",
      "ALE/Galaxian-v5\n",
      "ALE/Gopher-v5\n",
      "ALE/Gravitar-v5\n",
      "ALE/Hangman-v5\n",
      "ALE/HauntedHouse-v5\n",
      "ALE/Hero-v5\n",
      "ALE/HumanCannonball-v5\n",
      "ALE/IceHockey-v5\n",
      "ALE/Jamesbond-v5\n",
      "ALE/JourneyEscape-v5\n",
      "ALE/Kaboom-v5\n",
      "ALE/Kangaroo-v5\n",
      "ALE/KeystoneKapers-v5\n",
      "ALE/KingKong-v5\n",
      "ALE/Klax-v5\n",
      "ALE/Koolaid-v5\n",
      "ALE/Krull-v5\n",
      "ALE/KungFuMaster-v5\n",
      "ALE/LaserGates-v5\n",
      "ALE/LostLuggage-v5\n",
      "ALE/MarioBros-v5\n",
      "ALE/MiniatureGolf-v5\n",
      "ALE/MontezumaRevenge-v5\n",
      "ALE/MrDo-v5\n",
      "ALE/MsPacman-v5\n",
      "ALE/NameThisGame-v5\n",
      "ALE/Othello-v5\n",
      "ALE/Pacman-v5\n",
      "ALE/Phoenix-v5\n",
      "ALE/Pitfall2-v5\n",
      "ALE/Pitfall-v5\n",
      "ALE/Pong-v5\n",
      "ALE/Pooyan-v5\n",
      "ALE/PrivateEye-v5\n",
      "ALE/Qbert-v5\n",
      "ALE/Riverraid-v5\n",
      "ALE/RoadRunner-v5\n",
      "ALE/Robotank-v5\n",
      "ALE/Seaquest-v5\n",
      "ALE/SirLancelot-v5\n",
      "ALE/Skiing-v5\n",
      "ALE/Solaris-v5\n",
      "ALE/SpaceInvaders-v5\n",
      "ALE/SpaceWar-v5\n",
      "ALE/StarGunner-v5\n",
      "ALE/Superman-v5\n",
      "ALE/Surround-v5\n",
      "ALE/Tennis-v5\n",
      "ALE/Tetris-v5\n",
      "ALE/TicTacToe3D-v5\n",
      "ALE/TimePilot-v5\n",
      "ALE/Trondead-v5\n",
      "ALE/Turmoil-v5\n",
      "ALE/Tutankham-v5\n",
      "ALE/UpNDown-v5\n",
      "ALE/Venture-v5\n",
      "ALE/VideoCheckers-v5\n",
      "ALE/VideoChess-v5\n",
      "ALE/VideoCube-v5\n",
      "ALE/VideoPinball-v5\n",
      "ALE/WizardOfWor-v5\n",
      "ALE/WordZapper-v5\n",
      "ALE/YarsRevenge-v5\n",
      "ALE/Zaxxon-v5\n",
      "There are 415 gym environments. Such as ['Acrobot-v1', 'phys2d/CartPole-v0', 'phys2d/CartPole-v1', 'phys2d/Pendulum-v0', 'LunarLander-v3']\n"
     ]
    }
   ],
   "source": [
    "# all_envs = gymnasium.envs.registry.all\n",
    "# env_ids = [env.id for env in all_envs]\n",
    "key_names = list(gymnasium.envs.registry.keys())\n",
    "for i in key_names:\n",
    "    print(i)\n",
    "print(f'There are {len(gymnasium.envs.registry.keys())} gym environments. Such as {key_names[5:10]}')"
   ]
  },
  {
   "cell_type": "markdown",
   "metadata": {},
   "source": [
    "https://gym.openai.com/envs/CartPole-v1/"
   ]
  },
  {
   "cell_type": "markdown",
   "metadata": {},
   "source": [
    "## discrete action space environment"
   ]
  },
  {
   "cell_type": "code",
   "execution_count": 3,
   "metadata": {},
   "outputs": [],
   "source": [
    "env = gymnasium.make('CartPole-v1')"
   ]
  },
  {
   "cell_type": "code",
   "execution_count": 4,
   "metadata": {},
   "outputs": [
    {
     "name": "stdout",
     "output_type": "stream",
     "text": [
      "observation space is: Box([-4.8               -inf -0.41887903        -inf], [4.8               inf 0.41887903        inf], (4,), float32)\n",
      "is observation space discrete? False\n",
      "is observation space continuous? True\n",
      "observation space shape: (4,)\n",
      "observation space high values? [4.8               inf 0.41887903        inf]\n",
      "observation space low values? [-4.8               -inf -0.41887903        -inf]\n"
     ]
    }
   ],
   "source": [
    "print('observation space is:', env.observation_space)\n",
    "\n",
    "print('is observation space discrete?', isinstance(env.observation_space, gymnasium.spaces.Discrete))\n",
    "print('is observation space continuous?', isinstance(env.observation_space, gymnasium.spaces.Box))\n",
    "\n",
    "print('observation space shape:', env.observation_space.shape)\n",
    "\n",
    "print('observation space high values?', env.observation_space.high)\n",
    "print('observation space low values?', env.observation_space.low)"
   ]
  },
  {
   "cell_type": "code",
   "execution_count": 5,
   "metadata": {},
   "outputs": [
    {
     "name": "stdout",
     "output_type": "stream",
     "text": [
      "action space is: Discrete(2)\n",
      "is action space discrete? True\n",
      "is action space continuous? False\n",
      "action space shape: 2\n"
     ]
    }
   ],
   "source": [
    "print('action space is:', env.action_space)\n",
    "\n",
    "print('is action space discrete?', isinstance(env.action_space, gymnasium.spaces.Discrete))\n",
    "print('is action space continuous?', isinstance(env.action_space, gymnasium.spaces.Box))\n",
    "\n",
    "print('action space shape:', env.action_space.n)"
   ]
  },
  {
   "cell_type": "code",
   "execution_count": 6,
   "metadata": {},
   "outputs": [
    {
     "name": "stdout",
     "output_type": "stream",
     "text": [
      "500\n",
      "475.0\n",
      "False\n"
     ]
    }
   ],
   "source": [
    "print(env.spec.max_episode_steps)\n",
    "print(env.spec.reward_threshold)\n",
    "print(env.spec.nondeterministic)"
   ]
  },
  {
   "cell_type": "markdown",
   "metadata": {},
   "source": [
    "## continuous action space environment"
   ]
  },
  {
   "cell_type": "code",
   "execution_count": 7,
   "metadata": {},
   "outputs": [],
   "source": [
    "env = gymnasium.make('Pendulum-v1')"
   ]
  },
  {
   "cell_type": "code",
   "execution_count": 8,
   "metadata": {},
   "outputs": [
    {
     "name": "stdout",
     "output_type": "stream",
     "text": [
      "observation space is: Box([-1. -1. -8.], [1. 1. 8.], (3,), float32)\n",
      "is observation space discrete? False\n",
      "is observation space continuous? True\n",
      "observation space shape: (3,)\n",
      "observation space high values? [1. 1. 8.]\n",
      "observation space low values? [-1. -1. -8.]\n"
     ]
    }
   ],
   "source": [
    "print('observation space is:', env.observation_space)\n",
    "\n",
    "print('is observation space discrete?', isinstance(env.observation_space, gymnasium.spaces.Discrete))\n",
    "print('is observation space continuous?', isinstance(env.observation_space, gymnasium.spaces.Box))\n",
    "\n",
    "print('observation space shape:', env.observation_space.shape)\n",
    "\n",
    "print('observation space high values?', env.observation_space.high)\n",
    "print('observation space low values?', env.observation_space.low)"
   ]
  },
  {
   "cell_type": "code",
   "execution_count": 9,
   "metadata": {},
   "outputs": [
    {
     "name": "stdout",
     "output_type": "stream",
     "text": [
      "action space is: Box(-2.0, 2.0, (1,), float32)\n",
      "is action space discrete? False\n",
      "is action space continuous? True\n",
      "action space shape: (1,)\n",
      "action space high values? [2.]\n",
      "action space low values? [-2.]\n"
     ]
    }
   ],
   "source": [
    "print('action space is:', env.action_space)\n",
    "\n",
    "print('is action space discrete?', isinstance(env.action_space, gymnasium.spaces.Discrete))\n",
    "print('is action space continuous?', isinstance(env.action_space, gymnasium.spaces.Box))\n",
    "\n",
    "print('action space shape:', env.action_space.shape)\n",
    "\n",
    "print('action space high values?', env.action_space.high)\n",
    "print('action space low values?', env.action_space.low)"
   ]
  },
  {
   "cell_type": "code",
   "execution_count": 10,
   "metadata": {},
   "outputs": [
    {
     "name": "stdout",
     "output_type": "stream",
     "text": [
      "200\n",
      "None\n",
      "False\n"
     ]
    }
   ],
   "source": [
    "print(env.spec.max_episode_steps)\n",
    "print(env.spec.reward_threshold)\n",
    "print(env.spec.nondeterministic)"
   ]
  },
  {
   "cell_type": "markdown",
   "metadata": {},
   "source": [
    "## atari environments"
   ]
  },
  {
   "cell_type": "code",
   "execution_count": 11,
   "metadata": {},
   "outputs": [
    {
     "name": "stderr",
     "output_type": "stream",
     "text": [
      "A.L.E: Arcade Learning Environment (version 0.11.2+ecc1138)\n",
      "[Powered by Stella]\n"
     ]
    }
   ],
   "source": [
    "env = gymnasium.make('Freeway-v4')"
   ]
  },
  {
   "cell_type": "code",
   "execution_count": 12,
   "metadata": {},
   "outputs": [
    {
     "name": "stdout",
     "output_type": "stream",
     "text": [
      "observation space is: Box(0, 255, (210, 160, 3), uint8)\n",
      "is observation space discrete? False\n",
      "is observation space continuous? True\n",
      "observation space shape: (210, 160, 3)\n"
     ]
    }
   ],
   "source": [
    "print('observation space is:', env.observation_space)\n",
    "print('is observation space discrete?', isinstance(env.observation_space, gymnasium.spaces.Discrete))\n",
    "print('is observation space continuous?', isinstance(env.observation_space, gymnasium.spaces.Box))\n",
    "print('observation space shape:', env.observation_space.shape)"
   ]
  },
  {
   "cell_type": "code",
   "execution_count": 13,
   "metadata": {},
   "outputs": [
    {
     "name": "stdout",
     "output_type": "stream",
     "text": [
      "action space is: Discrete(3)\n",
      "action space shape: 3\n",
      "is action space discrete? True\n",
      "is action space continuous? False\n"
     ]
    }
   ],
   "source": [
    "print('action space is:', env.action_space)\n",
    "print('action space shape:', env.action_space.n)\n",
    "print('is action space discrete?', isinstance(env.action_space, gymnasium.spaces.Discrete))\n",
    "print('is action space continuous?', isinstance(env.action_space, gymnasium.spaces.Box))\n",
    "# print('action meanings:', env.unwrapped.get_action_meanings())"
   ]
  },
  {
   "cell_type": "code",
   "execution_count": 14,
   "metadata": {},
   "outputs": [
    {
     "name": "stdout",
     "output_type": "stream",
     "text": [
      "None\n",
      "None\n",
      "False\n"
     ]
    }
   ],
   "source": [
    "print(env.spec.max_episode_steps)\n",
    "print(env.spec.reward_threshold)\n",
    "print(env.spec.nondeterministic)"
   ]
  },
  {
   "cell_type": "markdown",
   "metadata": {},
   "source": [
    "- Pong-v0 => 10k steps, randomly skips 2-4 frames, repeat action probability of 25%\n",
    "- Pong-v4 => 100k steps, randomly skips 2-4 frames\n",
    "- PongDeterministic-v0 => 100k steps, always skips 4 frames, repeat action probability of 25%\n",
    "- PongDeterministic-v4 => 100k steps, always skips 4 frames\n",
    "- PongNoFrameskip-v0 => 100k steps, returns every frame, repeat action probability of 25%\n",
    "- PongNoFrameskip-v4 => 100k steps, returns every frame\n",
    "\n",
    "information about environments: https://github.com/openai/gym/blob/master/gym/envs/__init__.py#L604\n",
    "spaceinvadersdeterministic always skips 3 frames instead of 4: https://github.com/openai/gym/blob/master/gym/envs/__init__.py#L620\n",
    "default frameskip when one not provided: https://github.com/openai/gym/blob/master/gym/envs/atari/atari_env.py#L30\n",
    "when skipping frames, you repeat the last action: https://github.com/openai/gym/blob/master/gym/envs/atari/atari_env.py#L94"
   ]
  },
  {
   "cell_type": "markdown",
   "metadata": {},
   "source": [
    "## wrappers\n",
    "\n",
    "not exclusive to atari, but most commonly used for atari\n",
    "\n",
    "commonly used atari wrappers: https://github.com/openai/baselines/blob/master/baselines/common/atari_wrappers.py"
   ]
  },
  {
   "cell_type": "code",
   "execution_count": 15,
   "metadata": {},
   "outputs": [],
   "source": [
    "class ClipRewardEnv(gymnasium.RewardWrapper):\n",
    "    def __init__(self, env):\n",
    "        gymnasium.RewardWrapper.__init__(self, env)\n",
    "\n",
    "    def reward(self, reward):\n",
    "        \"\"\"Bin reward to {+1, 0, -1} by its sign.\"\"\"\n",
    "        return np.sign(reward)\n",
    "    \n",
    "class ScaledFloatFrame(gymnasium.ObservationWrapper):\n",
    "    def __init__(self, env):\n",
    "        gymnasium.ObservationWrapper.__init__(self, env)\n",
    "        self.observation_space = gymnasium.spaces.Box(low=0, high=1, shape=env.observation_space.shape, dtype=np.float32)\n",
    "\n",
    "    def observation(self, observation):\n",
    "        return np.array(observation).astype(np.float32) / 255.0"
   ]
  },
  {
   "cell_type": "code",
   "execution_count": 16,
   "metadata": {},
   "outputs": [],
   "source": [
    "env = gymnasium.make('Pong-v4')\n",
    "\n",
    "env = ClipRewardEnv(env)\n",
    "\n",
    "env = ScaledFloatFrame(env)"
   ]
  },
  {
   "cell_type": "markdown",
   "metadata": {},
   "source": [
    "## interacting with an environment"
   ]
  },
  {
   "cell_type": "code",
   "execution_count": 17,
   "metadata": {},
   "outputs": [
    {
     "name": "stdout",
     "output_type": "stream",
     "text": [
      "state type: <class 'tuple'>\n",
      "state shape: (4,)\n",
      "state: (array([0.00554461, 0.00036229, 0.04598982, 0.00729537], dtype=float32), {})\n"
     ]
    }
   ],
   "source": [
    "env = gymnasium.make('CartPole-v1')\n",
    "\n",
    "# env.seed(1234)\n",
    "\n",
    "state = env.reset()\n",
    "\n",
    "print('state type:', type(state))\n",
    "print('state shape:', env.observation_space.shape)\n",
    "print('state:', state)"
   ]
  },
  {
   "cell_type": "markdown",
   "metadata": {},
   "source": [
    "https://github.com/openai/gym/blob/master/gym/envs/classic_control/cartpole.py#L21\n",
    "\n",
    "cart pos, cart velocity, pole angle, pole velocity"
   ]
  },
  {
   "cell_type": "code",
   "execution_count": 18,
   "metadata": {},
   "outputs": [
    {
     "name": "stdout",
     "output_type": "stream",
     "text": [
      "selected action: 1\n"
     ]
    }
   ],
   "source": [
    "action = env.action_space.sample() #select random action, uniformly between high and low for continuous\n",
    "\n",
    "print('selected action:', action)"
   ]
  },
  {
   "cell_type": "markdown",
   "metadata": {},
   "source": [
    "https://github.com/openai/gym/blob/master/gym/envs/classic_control/cartpole.py#L29\n",
    "\n",
    "0 = left, 1 = right"
   ]
  },
  {
   "cell_type": "code",
   "execution_count": 19,
   "metadata": {},
   "outputs": [
    {
     "name": "stdout",
     "output_type": "stream",
     "text": [
      "state: [ 0.00555186  0.19479555  0.04613572 -0.2705299 ]\n",
      "reward: 1.0\n",
      "done: False\n",
      "info: False\n"
     ]
    }
   ],
   "source": [
    "state, reward, done, info, _ = env.step(action) #perform action on environment\n",
    "\n",
    "print('state:', state)\n",
    "print('reward:', reward)\n",
    "print('done:', done)\n",
    "print('info:', info)"
   ]
  },
  {
   "cell_type": "markdown",
   "metadata": {},
   "source": [
    "## interacting with the atari environment"
   ]
  },
  {
   "cell_type": "code",
   "execution_count": 20,
   "metadata": {},
   "outputs": [
    {
     "name": "stdout",
     "output_type": "stream",
     "text": [
      "state type: <class 'tuple'>\n",
      "state shape: (210, 160, 3)\n"
     ]
    }
   ],
   "source": [
    "env = gymnasium.make('FreewayNoFrameskip-v4', render_mode=\"rgb_array\")\n",
    "\n",
    "# env.seed(1234)\n",
    "\n",
    "state = env.reset()\n",
    "\n",
    "print('state type:', type(state))\n",
    "print('state shape:', env.observation_space.shape)"
   ]
  },
  {
   "cell_type": "code",
   "execution_count": 21,
   "metadata": {},
   "outputs": [
    {
     "data": {
      "image/png": "[encoded data removed]",
      "text/plain": [
       "<Figure size 640x480 with 1 Axes>"
      ]
     },
     "metadata": {},
     "output_type": "display_data"
    }
   ],
   "source": [
    "frame = env.render()\n",
    "plt.imshow(frame)"
   ]
  },
  {
   "cell_type": "code",
   "execution_count": 22,
   "metadata": {},
   "outputs": [
    {
     "name": "stdout",
     "output_type": "stream",
     "text": [
      "selected action: 2\n",
      "action meaning: DOWN\n"
     ]
    }
   ],
   "source": [
    "action = env.action_space.sample() #select random action, uniformly between high and low for continuous\n",
    "\n",
    "print('selected action:', action)\n",
    "print('action meaning:', env.unwrapped.get_action_meanings()[action])"
   ]
  },
  {
   "cell_type": "code",
   "execution_count": 23,
   "metadata": {},
   "outputs": [
    {
     "name": "stdout",
     "output_type": "stream",
     "text": [
      "reward: 0.0\n",
      "done: False\n",
      "info: False\n"
     ]
    }
   ],
   "source": [
    "state, reward, done, info, _ = env.step(action) #perform action on environment\n",
    "\n",
    "print('reward:', reward)\n",
    "print('done:', done)\n",
    "print('info:', info)"
   ]
  },
  {
   "cell_type": "code",
   "execution_count": 24,
   "metadata": {},
   "outputs": [
    {
     "data": {
      "image/png": "[encoded data removed]",
      "text/plain": [
       "<Figure size 640x480 with 1 Axes>"
      ]
     },
     "metadata": {},
     "output_type": "display_data"
    }
   ],
   "source": [
    "plt.imshow(state);"
   ]
  },
  {
   "cell_type": "code",
   "execution_count": 25,
   "metadata": {},
   "outputs": [
    {
     "data": {
      "image/png": "[encoded data removed]",
      "text/plain": [
       "<Figure size 640x480 with 1 Axes>"
      ]
     },
     "metadata": {},
     "output_type": "display_data"
    }
   ],
   "source": [
    "up_action = env.unwrapped.get_action_meanings().index('UP')\n",
    "\n",
    "for i in range(50):\n",
    "    state, reward, done, info, _ = env.step(up_action) #presses up 10 times\n",
    "\n",
    "plt.imshow(state);"
   ]
  },
  {
   "cell_type": "markdown",
   "metadata": {},
   "source": [
    "## reinforcement learning loop"
   ]
  },
  {
   "cell_type": "code",
   "execution_count": 26,
   "metadata": {},
   "outputs": [
    {
     "name": "stdout",
     "output_type": "stream",
     "text": [
      "episode: 1, reward: 30.0\n",
      "episode: 2, reward: 105.0\n",
      "episode: 3, reward: 140.0\n",
      "episode: 4, reward: 155.0\n",
      "episode: 5, reward: 105.0\n",
      "episode: 6, reward: 315.0\n",
      "episode: 7, reward: 290.0\n",
      "episode: 8, reward: 110.0\n",
      "episode: 9, reward: 150.0\n",
      "episode: 10, reward: 30.0\n"
     ]
    }
   ],
   "source": [
    "env = gymnasium.make('SpaceInvadersNoFrameskip-v4', render_mode=\"rgb_array\")\n",
    "\n",
    "# env.seed(1234)\n",
    "\n",
    "n_episodes = 10\n",
    "\n",
    "for episode in range(n_episodes):\n",
    "    \n",
    "    episode_reward = 0\n",
    "    done = False\n",
    "    state = env.reset()\n",
    "    \n",
    "    while not done:\n",
    "        \n",
    "        action = env.action_space.sample()\n",
    "        \n",
    "        state, reward, done, _, _ = env.step(action)\n",
    "        \n",
    "        episode_reward += reward\n",
    "        \n",
    "    print(f'episode: {episode+1}, reward: {episode_reward}')"
   ]
  },
  {
   "cell_type": "code",
   "execution_count": null,
   "metadata": {},
   "outputs": [],
   "source": []
  }
 ],
 "metadata": {
  "kernelspec": {
   "display_name": "Python 3 (ipykernel)",
   "language": "python",
   "name": "python3"
  },
  "language_info": {
   "codemirror_mode": {
    "name": "ipython",
    "version": 3
   },
   "file_extension": ".py",
   "mimetype": "text/x-python",
   "name": "python",
   "nbconvert_exporter": "python",
   "pygments_lexer": "ipython3",
   "version": "3.12.3"
  }
 },
 "nbformat": 4,
 "nbformat_minor": 4
}
